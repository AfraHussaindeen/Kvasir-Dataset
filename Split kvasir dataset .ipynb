{
 "cells": [
  {
   "cell_type": "code",
   "execution_count": 6,
   "metadata": {},
   "outputs": [],
   "source": [
    "import os\n",
    "import numpy as np\n",
    "import glob\n",
    "import shutil\n",
    "\n",
    "import tensorflow as tf\n",
    "\n",
    "import matplotlib.pyplot as plt"
   ]
  },
  {
   "cell_type": "code",
   "execution_count": 7,
   "metadata": {},
   "outputs": [],
   "source": [
    "base_dir = \"kvasir-dataset-v2\""
   ]
  },
  {
   "cell_type": "code",
   "execution_count": 8,
   "metadata": {},
   "outputs": [],
   "source": [
    "classes = ['dyed-lifted-polyps',\n",
    "           'dyed-resection-margins',\n",
    "           'esophagitis','normal-cecum',\n",
    "           'normal-pylorus','normal-z-line',\n",
    "           'polyps',\n",
    "           'ulcerative-colitis']"
   ]
  },
  {
   "cell_type": "code",
   "execution_count": 9,
   "metadata": {},
   "outputs": [
    {
     "name": "stdout",
     "output_type": "stream",
     "text": [
      "dyed-lifted-polyps: 1000 Images\n",
      "dyed-resection-margins: 1000 Images\n",
      "esophagitis: 1000 Images\n",
      "normal-cecum: 1000 Images\n",
      "normal-pylorus: 1000 Images\n",
      "normal-z-line: 1000 Images\n",
      "polyps: 1000 Images\n",
      "ulcerative-colitis: 1000 Images\n"
     ]
    }
   ],
   "source": [
    "#The dataset is split into train and test in such a way that 80% of the data as a training set \n",
    "#and 20% of the data as a test set\n",
    "\n",
    "for cl in classes:\n",
    "    \n",
    "    img_path = os.path.join(base_dir, cl)\n",
    "    images = glob.glob(img_path + '/*.jpg')\n",
    "    print(\"{}: {} Images\".format(cl, len(images)))\n",
    "    train_list, test_list = images[:round(len(images)*0.8)], images[round(len(images)*0.8):]\n",
    "\n",
    "    for image in train_list:\n",
    "        if not os.path.exists(os.path.join(base_dir, 'train', cl)):\n",
    "            os.makedirs(os.path.join(base_dir, 'train', cl))\n",
    "        shutil.move(image, os.path.join(base_dir, 'train', cl))\n",
    "\n",
    "    for image in test_list:\n",
    "        if not os.path.exists(os.path.join(base_dir, 'test', cl)):\n",
    "            os.makedirs(os.path.join(base_dir, 'test', cl))\n",
    "        shutil.move(image, os.path.join(base_dir, 'test', cl))\n",
    "    \n",
    "    \n",
    "    "
   ]
  },
  {
   "cell_type": "code",
   "execution_count": null,
   "metadata": {},
   "outputs": [],
   "source": []
  }
 ],
 "metadata": {
  "kernelspec": {
   "display_name": "Python 3",
   "language": "python",
   "name": "python3"
  },
  "language_info": {
   "codemirror_mode": {
    "name": "ipython",
    "version": 3
   },
   "file_extension": ".py",
   "mimetype": "text/x-python",
   "name": "python",
   "nbconvert_exporter": "python",
   "pygments_lexer": "ipython3",
   "version": "3.7.6"
  }
 },
 "nbformat": 4,
 "nbformat_minor": 4
}
